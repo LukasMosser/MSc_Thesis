{
 "cells": [
  {
   "cell_type": "code",
   "execution_count": 1,
   "metadata": {
    "collapsed": true
   },
   "outputs": [],
   "source": [
    "import tifffile\n",
    "import numpy as np\n",
    "import matplotlib.pyplot as plt\n",
    "from numba import autojit\n",
    "from collections import Counter\n",
    "%matplotlib inline\n",
    "import json"
   ]
  },
  {
   "cell_type": "code",
   "execution_count": 2,
   "metadata": {
    "collapsed": true
   },
   "outputs": [],
   "source": [
    "@autojit\n",
    "def two_point_correlation(im, dim):\n",
    "    if dim == 0: #x_direction\n",
    "        dim_1 = im.shape[2] #y-axis\n",
    "        dim_2 = im.shape[1] #z-axis\n",
    "        dim_3 = im.shape[0] #x-axis\n",
    "    elif dim == 1: #y-direction\n",
    "        dim_1 = im.shape[0] #x-axis\n",
    "        dim_2 = im.shape[1] #z-axis\n",
    "        dim_3 = im.shape[2] #y-axis\n",
    "    elif dim == 2: #z-direction\n",
    "        dim_1 = im.shape[0] #x-axis\n",
    "        dim_2 = im.shape[2] #y-axis\n",
    "        dim_3 = im.shape[1] #z-axis\n",
    "        \n",
    "    two_point = np.zeros((dim_1, dim_2, dim_3))\n",
    "    for n1 in range(dim_1):\n",
    "        for n2 in range(dim_2):\n",
    "            for r in range(dim_3):\n",
    "                lmax = dim_3-r\n",
    "                for a in range(lmax):\n",
    "                    if dim == 0:\n",
    "                        pixel1 = im[a, n2, n1]\n",
    "                        pixel2 = im[a+r, n2, n1]\n",
    "                    elif dim == 1:\n",
    "                        pixel1 = im[n1, n2, a]\n",
    "                        pixel2 = im[n1, n2, a+r]\n",
    "                    elif dim == 2:\n",
    "                        pixel1 = im[n1, a, n2]\n",
    "                        pixel2 = im[n1, a+r, n2]\n",
    "                    \n",
    "                    if pixel1 == 0 and pixel2 == 0:\n",
    "                        two_point[n1, n2, r] += 1\n",
    "                two_point[n1, n2, r] = two_point[n1, n2, r]/(float(lmax))\n",
    "    return two_point"
   ]
  },
  {
   "cell_type": "code",
   "execution_count": 3,
   "metadata": {
    "collapsed": false
   },
   "outputs": [
    {
     "name": "stdout",
     "output_type": "stream",
     "text": [
      "S1\n",
      "computed covariances\n",
      "computed porosity\n",
      "output to file\n",
      "S2\n",
      "computed covariances\n",
      "computed porosity\n",
      "output to file\n",
      "S3\n",
      "computed covariances\n",
      "computed porosity\n",
      "output to file\n",
      "S4\n",
      "computed covariances\n",
      "computed porosity\n",
      "output to file\n",
      "S5\n",
      "computed covariances\n",
      "computed porosity\n",
      "output to file\n",
      "S6\n",
      "computed covariances\n",
      "computed porosity\n",
      "output to file\n",
      "S7\n",
      "computed covariances\n",
      "computed porosity\n",
      "output to file\n",
      "S8\n",
      "computed covariances\n",
      "computed porosity\n",
      "output to file\n",
      "S9\n",
      "computed covariances\n",
      "computed porosity\n",
      "output to file\n",
      "C1\n",
      "computed covariances\n",
      "computed porosity\n",
      "output to file\n",
      "C2\n",
      "computed covariances\n",
      "computed porosity\n",
      "output to file\n",
      "Berea\n",
      "computed covariances\n",
      "computed porosity\n",
      "output to file\n"
     ]
    }
   ],
   "source": [
    "names = [\"S1\", \"S2\", \"S3\", \"S4\", \"S5\", \"S6\", \"S7\", \"S8\", \"S9\", \"C1\", \"C2\", \"Berea\"]\n",
    "\n",
    "for name in names:\n",
    "    print name\n",
    "    im_crop = tifffile.imread(\"image_data/images/\"+name+\".tif\")\n",
    "    two_point_x = two_point_correlation(im_crop, 1)\n",
    "    two_point_y = two_point_correlation(im_crop, 2)\n",
    "    two_point_z = two_point_correlation(im_crop, 0)\n",
    "    print \"computed covariances\"\n",
    "    mean_two_point_x = np.mean(np.mean(two_point_x, axis=0), axis=0)\n",
    "    mean_two_point_y = np.mean(np.mean(two_point_y, axis=0), axis=0)\n",
    "    mean_two_point_z = np.mean(np.mean(two_point_z, axis=0), axis=0)\n",
    "    mean_two_point = np.mean(np.vstack([mean_two_point_x, mean_two_point_y, mean_two_point_z]), axis=0)\n",
    "    poro_data = Counter(im_crop.flatten())\n",
    "    porosity = (poro_data[0]/float(poro_data[0]+poro_data[255]))\n",
    "    print \"computed porosity\"\n",
    "    two_point_x_l = list(mean_two_point_x)\n",
    "    two_point_y_l = list(mean_two_point_y)\n",
    "    two_point_z_l = list(mean_two_point_z)\n",
    "    two_point_l = list(mean_two_point)\n",
    "\n",
    "    two_point_data = {\"name\":name, \n",
    "                      \"x\": two_point_x_l, \n",
    "                      \"y\": two_point_y_l, \n",
    "                      \"z\": two_point_z_l, \n",
    "                      \"porosity\": porosity, \n",
    "                      \"averaged\": two_point_l}\n",
    "    with open(\"covariance_results/\"+name+\".json\", 'w') as outfile:\n",
    "        json.dump(two_point_data, outfile)\n",
    "    print \"output to file\""
   ]
  },
  {
   "cell_type": "code",
   "execution_count": null,
   "metadata": {
    "collapsed": false
   },
   "outputs": [],
   "source": []
  },
  {
   "cell_type": "code",
   "execution_count": null,
   "metadata": {
    "collapsed": true
   },
   "outputs": [],
   "source": []
  }
 ],
 "metadata": {
  "anaconda-cloud": {},
  "kernelspec": {
   "display_name": "Python [Root]",
   "language": "python",
   "name": "Python [Root]"
  },
  "language_info": {
   "codemirror_mode": {
    "name": "ipython",
    "version": 2
   },
   "file_extension": ".py",
   "mimetype": "text/x-python",
   "name": "python",
   "nbconvert_exporter": "python",
   "pygments_lexer": "ipython2",
   "version": "2.7.11"
  }
 },
 "nbformat": 4,
 "nbformat_minor": 0
}
