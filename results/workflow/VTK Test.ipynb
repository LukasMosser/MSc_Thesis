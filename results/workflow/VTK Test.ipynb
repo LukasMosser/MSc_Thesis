{
 "cells": [
  {
   "cell_type": "code",
   "execution_count": 7,
   "metadata": {
    "collapsed": true
   },
   "outputs": [],
   "source": [
    "import numpy as np\n",
    "import vtk\n",
    "import tifffile\n",
    "from vtk.util import numpy_support"
   ]
  },
  {
   "cell_type": "code",
   "execution_count": 5,
   "metadata": {
    "collapsed": true
   },
   "outputs": [],
   "source": [
    "name = \"beadpack\""
   ]
  },
  {
   "cell_type": "code",
   "execution_count": 29,
   "metadata": {
    "collapsed": false
   },
   "outputs": [],
   "source": [
    "im = tifffile.imread(\"image_data/images/\"+name+\".tif\")\n",
    "N = 400\n",
    "im_crop = im[0:N, 0:N, 0:N]"
   ]
  },
  {
   "cell_type": "code",
   "execution_count": 30,
   "metadata": {
    "collapsed": false
   },
   "outputs": [
    {
     "name": "stdout",
     "output_type": "stream",
     "text": [
      "vtkPolyData (000000000485D010)\n",
      "  Debug: Off\n",
      "  Modified Time: 240216\n",
      "  Reference Count: 2\n",
      "  Registered Events: (none)\n",
      "  Information: 0000000004695190\n",
      "  Data Released: False\n",
      "  Global Release Data: Off\n",
      "  UpdateTime: 240217\n",
      "  Field Data:\n",
      "    Debug: Off\n",
      "    Modified Time: 103718\n",
      "    Reference Count: 1\n",
      "    Registered Events: (none)\n",
      "    Number Of Arrays: 0\n",
      "    Number Of Components: 0\n",
      "    Number Of Tuples: 0\n",
      "  Number Of Points: 7195650\n",
      "  Number Of Cells: 14309267\n",
      "  Cell Data:\n",
      "    Debug: Off\n",
      "    Modified Time: 240216\n",
      "    Reference Count: 1\n",
      "    Registered Events: \n",
      "      Registered Observers:\n",
      "        vtkObserver (000000000489A8B0)\n",
      "          Event: 33\n",
      "          EventName: ModifiedEvent\n",
      "          Command: 0000000004872230\n",
      "          Priority: 0\n",
      "          Tag: 1\n",
      "    Number Of Arrays: 1\n",
      "    Array 0 name = NULL\n",
      "    Number Of Components: 1\n",
      "    Number Of Tuples: 14309267\n",
      "    Copy Tuple Flags: ( 1 1 1 1 1 0 1 1 )\n",
      "    Interpolate Flags: ( 1 1 1 1 1 0 0 1 )\n",
      "    Pass Through Flags: ( 1 1 1 1 1 1 1 1 )\n",
      "    Scalars: \n",
      "      Debug: Off\n",
      "      Modified Time: 103741\n",
      "      Reference Count: 1\n",
      "      Registered Events: (none)\n",
      "      Name: (none)\n",
      "      Data type: float\n",
      "      Size: 14309267\n",
      "      MaxId: 14309266\n",
      "      NumberOfComponents: 1\n",
      "      Information: 0000000000000000\n",
      "      Name: (none)\n",
      "      Number Of Components: 1\n",
      "      Number Of Tuples: 14309267\n",
      "      Size: 14309267\n",
      "      MaxId: 14309266\n",
      "      LookupTable: (none)\n",
      "      Array: 0000000029758040\n",
      "    Vectors: (none)\n",
      "    Normals: (none)\n",
      "    TCoords: (none)\n",
      "    Tensors: (none)\n",
      "    GlobalIds: (none)\n",
      "    PedigreeIds: (none)\n",
      "    EdgeFlag: (none)\n",
      "  Point Data:\n",
      "    Debug: Off\n",
      "    Modified Time: 103728\n",
      "    Reference Count: 1\n",
      "    Registered Events: \n",
      "      Registered Observers:\n",
      "        vtkObserver (000000000489A190)\n",
      "          Event: 33\n",
      "          EventName: ModifiedEvent\n",
      "          Command: 0000000004872230\n",
      "          Priority: 0\n",
      "          Tag: 1\n",
      "    Number Of Arrays: 0\n",
      "    Number Of Components: 0\n",
      "    Number Of Tuples: 0\n",
      "    Copy Tuple Flags: ( 1 1 1 1 1 0 1 1 )\n",
      "    Interpolate Flags: ( 1 1 1 1 1 0 0 1 )\n",
      "    Pass Through Flags: ( 1 1 1 1 1 1 1 1 )\n",
      "    Scalars: (none)\n",
      "    Vectors: (none)\n",
      "    Normals: (none)\n",
      "    TCoords: (none)\n",
      "    Tensors: (none)\n",
      "    GlobalIds: (none)\n",
      "    PedigreeIds: (none)\n",
      "    EdgeFlag: (none)\n",
      "  Bounds: \n",
      "    Xmin,Xmax: (0, 399)\n",
      "    Ymin,Ymax: (0, 399)\n",
      "    Zmin,Zmax: (0, 399)\n",
      "  Compute Time: 240239\n",
      "  Number Of Points: 7195650\n",
      "  Point Coordinates: 0000000003C1DC80\n",
      "  Locator: 0000000000000000\n",
      "  Number Of Vertices: 0\n",
      "  Number Of Lines: 0\n",
      "  Number Of Polygons: 14309267\n",
      "  Number Of Triangle Strips: 0\n",
      "  Number Of Pieces: 1\n",
      "  Piece: 0\n",
      "  Ghost Level: 0\n",
      "\n",
      "\n"
     ]
    }
   ],
   "source": [
    "vtk_data = numpy_support.numpy_to_vtk(num_array=im_crop.ravel(), deep=True, array_type=vtk.VTK_DOUBLE)\n",
    "imageVTK = vtk.vtkImageData()\n",
    "imageVTK.SetSpacing([1.0, 1.0, 1.0])\n",
    "imageVTK.SetOrigin([0.0, 0.0, 0.0])\n",
    "imageVTK.SetDimensions(im_crop.shape)\n",
    "imageVTK.GetPointData().SetScalars(vtk_data)\n",
    "\n",
    "dmc = vtk.vtkDiscreteMarchingCubes()\n",
    "dmc.SetInputData(imageVTK)\n",
    "dmc.Update()\n",
    "result = dmc.GetOutput()\n",
    "print result"
   ]
  },
  {
   "cell_type": "code",
   "execution_count": 31,
   "metadata": {
    "collapsed": false
   },
   "outputs": [],
   "source": [
    "area = 0.\n",
    "for i in range(result.GetNumberOfCells()):\n",
    "    cell = result.GetCell(i)\n",
    "    area += cell.ComputeArea()"
   ]
  },
  {
   "cell_type": "code",
   "execution_count": 32,
   "metadata": {
    "collapsed": false
   },
   "outputs": [],
   "source": [
    "Sv = area*2e-6*2e-6/((N*2e-6)**3)"
   ]
  },
  {
   "cell_type": "code",
   "execution_count": 34,
   "metadata": {
    "collapsed": false
   },
   "outputs": [
    {
     "name": "stdout",
     "output_type": "stream",
     "text": [
      "94.6147746118\n"
     ]
    }
   ],
   "source": [
    "print 6/Sv/1e-6*(1-0.362)"
   ]
  },
  {
   "cell_type": "code",
   "execution_count": 38,
   "metadata": {
    "collapsed": false
   },
   "outputs": [
    {
     "name": "stdout",
     "output_type": "stream",
     "text": [
      "7.0379682621e-11\n"
     ]
    }
   ],
   "source": [
    "correct = 0.359**3/(40000**2*(1-0.359)**2)\n",
    "print correct"
   ]
  },
  {
   "cell_type": "code",
   "execution_count": 44,
   "metadata": {
    "collapsed": false
   },
   "outputs": [
    {
     "name": "stdout",
     "output_type": "stream",
     "text": [
      "7.33794972392e-11\n"
     ]
    }
   ],
   "source": [
    "correct = (0.3625534**3)/((39978.5279063**2)*((1.-0.3625534)**2))\n",
    "print correct"
   ]
  },
  {
   "cell_type": "code",
   "execution_count": 76,
   "metadata": {
    "collapsed": false
   },
   "outputs": [],
   "source": [
    "correct = 6./25.*(0.3625534**3)/(((6/100e-6)**2)*((1.-0.3625534)**2))"
   ]
  },
  {
   "cell_type": "code",
   "execution_count": 77,
   "metadata": {
    "collapsed": false
   },
   "outputs": [
    {
     "name": "stdout",
     "output_type": "stream",
     "text": [
      "1.56374907332e-12\n"
     ]
    }
   ],
   "source": [
    "print correct/5."
   ]
  },
  {
   "cell_type": "code",
   "execution_count": 87,
   "metadata": {
    "collapsed": false
   },
   "outputs": [
    {
     "name": "stdout",
     "output_type": "stream",
     "text": [
      "7.50716614624e-12\n"
     ]
    }
   ],
   "source": [
    "print  ((0.359**3)*((100.e-6)**2))/((150*(1.-0.359)**2))"
   ]
  },
  {
   "cell_type": "code",
   "execution_count": 62,
   "metadata": {
    "collapsed": false
   },
   "outputs": [
    {
     "name": "stdout",
     "output_type": "stream",
     "text": [
      "38460.0\n"
     ]
    }
   ],
   "source": [
    "Sv = (6./100.e-6)*(1.-0.359)\n",
    "print Sv"
   ]
  },
  {
   "cell_type": "code",
   "execution_count": 67,
   "metadata": {
    "collapsed": false
   },
   "outputs": [
    {
     "name": "stdout",
     "output_type": "stream",
     "text": [
      "1.52257509803e-11\n"
     ]
    }
   ],
   "source": [
    "print (0.359**3)/((Sv**2)*5*((1.-0.359)**2))"
   ]
  },
  {
   "cell_type": "code",
   "execution_count": 66,
   "metadata": {
    "collapsed": false
   },
   "outputs": [
    {
     "name": "stdout",
     "output_type": "stream",
     "text": [
      "7.50716614624e-12\n"
     ]
    }
   ],
   "source": [
    "print 6*(0.359**3)/(25*Sv**2)"
   ]
  },
  {
   "cell_type": "code",
   "execution_count": 72,
   "metadata": {
    "collapsed": false
   },
   "outputs": [
    {
     "name": "stdout",
     "output_type": "stream",
     "text": [
      "2.25214984387e-10\n"
     ]
    }
   ],
   "source": [
    "print ((1./5.)*(0.359**3))/(((1./100e-6)**2)*(1.-0.359)**2)"
   ]
  },
  {
   "cell_type": "code",
   "execution_count": 83,
   "metadata": {
    "collapsed": false
   },
   "outputs": [],
   "source": [
    "Sv = np.sqrt((0.359**3)/(5*6.225e-12*(1-0.359)**2))"
   ]
  },
  {
   "cell_type": "code",
   "execution_count": 84,
   "metadata": {
    "collapsed": false
   },
   "outputs": [
    {
     "name": "stdout",
     "output_type": "stream",
     "text": [
      "99.7521550751\n"
     ]
    }
   ],
   "source": [
    "Dp = 6/Sv\n",
    "print Dp/1e-6"
   ]
  },
  {
   "cell_type": "code",
   "execution_count": 86,
   "metadata": {
    "collapsed": false
   },
   "outputs": [
    {
     "name": "stdout",
     "output_type": "stream",
     "text": [
      "6.25597178853e-12\n"
     ]
    }
   ],
   "source": [
    "print (0.359**3)/(5*((6./100e-6)**2)*(1-0.359)**2)"
   ]
  },
  {
   "cell_type": "code",
   "execution_count": null,
   "metadata": {
    "collapsed": true
   },
   "outputs": [],
   "source": []
  }
 ],
 "metadata": {
  "anaconda-cloud": {},
  "kernelspec": {
   "display_name": "Python [Root]",
   "language": "python",
   "name": "Python [Root]"
  },
  "language_info": {
   "codemirror_mode": {
    "name": "ipython",
    "version": 2
   },
   "file_extension": ".py",
   "mimetype": "text/x-python",
   "name": "python",
   "nbconvert_exporter": "python",
   "pygments_lexer": "ipython2",
   "version": "2.7.11"
  }
 },
 "nbformat": 4,
 "nbformat_minor": 0
}
