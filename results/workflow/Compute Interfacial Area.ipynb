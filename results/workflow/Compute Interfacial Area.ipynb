{
 "cells": [
  {
   "cell_type": "code",
   "execution_count": 1,
   "metadata": {
    "collapsed": true
   },
   "outputs": [],
   "source": [
    "import numpy as np\n",
    "import matplotlib.pyplot as plt\n",
    "import json\n",
    "import os\n",
    "import tifffile\n",
    "import itertools"
   ]
  },
  {
   "cell_type": "markdown",
   "metadata": {},
   "source": [
    "Compute Interfacial area"
   ]
  },
  {
   "cell_type": "code",
   "execution_count": 8,
   "metadata": {
    "collapsed": false
   },
   "outputs": [
    {
     "data": {
      "text/plain": [
       "'S1\", \"S2\", \"S3\", \"S4\", \"S5\", \"S6\", \"S7\", \"S8\", \"S9\", \"C1\", \"C2\", \"Berea\",\\n         \"Isotropic12\", \"Isotropic13\", \"Isotropic14\", \"Anisotropic121214\", \"Anisotropic131314\",\\n         \"beadpack\", \\n'"
      ]
     },
     "execution_count": 8,
     "metadata": {},
     "output_type": "execute_result"
    }
   ],
   "source": [
    "names = [\"ketton\", \"bentheimer\", \"estaillades\", \"doddington\"]\n",
    "\"\"\"S1\", \"S2\", \"S3\", \"S4\", \"S5\", \"S6\", \"S7\", \"S8\", \"S9\", \"C1\", \"C2\", \"Berea\",\n",
    "         \"Isotropic12\", \"Isotropic13\", \"Isotropic14\", \"Anisotropic121214\", \"Anisotropic131314\",\n",
    "         \"beadpack\", \n",
    "\"\"\""
   ]
  },
  {
   "cell_type": "code",
   "execution_count": 9,
   "metadata": {
    "collapsed": true
   },
   "outputs": [],
   "source": [
    "def count_interfaces_z(im):\n",
    "    interfaces = 0\n",
    "    for i in range(im.shape[1]):\n",
    "        for j in range(im.shape[2]):\n",
    "            interfaces += 2*(len([ sum( 1 for _ in group ) for key, group in itertools.groupby( im[:, i, j] ) if key ])-1)\n",
    "    return interfaces       \n",
    "\n",
    "def count_interfaces_x(im):\n",
    "    interfaces = 0\n",
    "    for i in range(im.shape[1]):\n",
    "        for j in range(im.shape[0]):\n",
    "            interfaces += 2*(len([ sum( 1 for _ in group ) for key, group in itertools.groupby( im[j, i, :] ) if key ])-1)\n",
    "    return interfaces    \n",
    "\n",
    "def count_interfaces_y(im):\n",
    "    interfaces = 0\n",
    "    for i in range(im.shape[0]):\n",
    "        for j in range(im.shape[2]):\n",
    "            interfaces += 2*(len([ sum( 1 for _ in group ) for key, group in itertools.groupby( im[i, :, j] ) if key ])-1)\n",
    "    return interfaces         "
   ]
  },
  {
   "cell_type": "code",
   "execution_count": 10,
   "metadata": {
    "collapsed": false
   },
   "outputs": [
    {
     "name": "stdout",
     "output_type": "stream",
     "text": [
      "ketton\n",
      "done computing\n",
      "bentheimer\n",
      "done computing\n",
      "estaillades\n",
      "done computing\n",
      "doddington\n",
      "done computing\n"
     ]
    }
   ],
   "source": [
    "for name in names:\n",
    "    im = tifffile.imread(\"image_data/images/\"+name+\".tif\")\n",
    "    print name\n",
    "    x_inter = count_interfaces_x(im)\n",
    "    y_inter = count_interfaces_y(im)\n",
    "    z_inter = count_interfaces_z(im)\n",
    "    print \"done computing\"\n",
    "\n",
    "    sum_interfaces = x_inter+y_inter+z_inter\n",
    "\n",
    "    x_frac = x_inter/float(sum_interfaces)\n",
    "    y_frac = y_inter/float(sum_interfaces)\n",
    "    z_frac = z_inter/float(sum_interfaces)\n",
    "\n",
    "    interface_data = {\"name\":name, \n",
    "                        \"x_interface\": x_inter, \n",
    "                        \"y_interface\": y_inter, \n",
    "                        \"z_interface\": z_inter, \n",
    "                        \"x_frac\": x_frac, \n",
    "                        \"y_frac\": y_frac,\n",
    "                        \"z_frac\": z_frac,\n",
    "                        \"total_area\": sum_interfaces\n",
    "                     }\n",
    "    with open(\"interface_results/\"+name+\".json\", 'w') as outfile:\n",
    "        json.dump(interface_data, outfile)"
   ]
  },
  {
   "cell_type": "code",
   "execution_count": null,
   "metadata": {
    "collapsed": true
   },
   "outputs": [],
   "source": []
  }
 ],
 "metadata": {
  "anaconda-cloud": {},
  "kernelspec": {
   "display_name": "Python [Root]",
   "language": "python",
   "name": "Python [Root]"
  },
  "language_info": {
   "codemirror_mode": {
    "name": "ipython",
    "version": 2
   },
   "file_extension": ".py",
   "mimetype": "text/x-python",
   "name": "python",
   "nbconvert_exporter": "python",
   "pygments_lexer": "ipython2",
   "version": "2.7.11"
  }
 },
 "nbformat": 4,
 "nbformat_minor": 0
}
